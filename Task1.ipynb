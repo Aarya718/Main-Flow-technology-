{
  "nbformat": 4,
  "nbformat_minor": 0,
  "metadata": {
    "colab": {
      "provenance": [],
      "include_colab_link": true
    },
    "kernelspec": {
      "name": "python3",
      "display_name": "Python 3"
    },
    "language_info": {
      "name": "python"
    }
  },
  "cells": [
    {
      "cell_type": "markdown",
      "metadata": {
        "id": "view-in-github",
        "colab_type": "text"
      },
      "source": [
        "<a href=\"https://colab.research.google.com/github/Aarya718/Main-Flow-technology-/blob/main/Task1.ipynb\" target=\"_parent\"><img src=\"https://colab.research.google.com/assets/colab-badge.svg\" alt=\"Open In Colab\"/></a>"
      ]
    },
    {
      "cell_type": "markdown",
      "source": [
        "Task 1\n",
        "\n",
        "Aarya Ramchandra Tarphe - 12446\n",
        "\n",
        "Data Science with Python"
      ],
      "metadata": {
        "id": "TvmKwQD-L_lx"
      }
    },
    {
      "cell_type": "markdown",
      "source": [
        "**Python**\n",
        "\n",
        "Python is a versatile programming language known for its simplicity and readability. Lists, dictionaries, and sets are fundamental data structures in Python."
      ],
      "metadata": {
        "id": "PoXeDmHMMgZT"
      }
    },
    {
      "cell_type": "markdown",
      "source": [
        "**Lists**\n",
        "\n",
        " Lists are ordered collections of items. They can contain any data type, and the items can be accessed by their index. Lists are mutable, meaning they can be modified after creation."
      ],
      "metadata": {
        "id": "J_4foifjOK7j"
      }
    },
    {
      "cell_type": "code",
      "source": [
        "\n",
        "# Creating a list\n",
        "my_list = [1, 2, 3, 4, 5]\n",
        "print(\"List:\", my_list)\n",
        "\n",
        "# Adding an element to the list\n",
        "my_list.append(6)\n",
        "print(\"List after adding element:\", my_list)\n",
        "\n",
        "# Removing an element from the list\n",
        "my_list.remove(3)\n",
        "print(\"List after removing element:\", my_list)\n",
        "\n",
        "# Modifying an element in the list\n",
        "my_list[0] = 10\n",
        "print(\"List after modifying element:\", my_list)"
      ],
      "metadata": {
        "colab": {
          "base_uri": "https://localhost:8080/"
        },
        "id": "H91Fo3pPT1-L",
        "outputId": "35279f14-f8ab-4f7c-9917-9c87c964d7c0"
      },
      "execution_count": null,
      "outputs": [
        {
          "output_type": "stream",
          "name": "stdout",
          "text": [
            "List: [1, 2, 3, 4, 5]\n",
            "List after adding element: [1, 2, 3, 4, 5, 6]\n",
            "List after removing element: [1, 2, 4, 5, 6]\n",
            "List after modifying element: [10, 2, 4, 5, 6]\n"
          ]
        }
      ]
    },
    {
      "cell_type": "markdown",
      "source": [
        "**Dictionaries**\n",
        "\n",
        " Dictionaries are unordered collections of key-value pairs. Each key is unique, and it maps to a corresponding value. Dictionaries are mutable and are often used for data manipulation and organization."
      ],
      "metadata": {
        "id": "L3dZ_3LXTSji"
      }
    },
    {
      "cell_type": "code",
      "source": [
        "\n",
        "# Creating a dictionary\n",
        "my_dict = {'a': 1, 'b': 2, 'c': 3}\n",
        "print(\"Dictionary:\", my_dict)\n",
        "\n",
        "# Adding a key-value pair to the dictionary\n",
        "my_dict['d'] = 4\n",
        "print(\"Dictionary after adding key-value pair:\", my_dict)\n",
        "\n",
        "# Removing a key-value pair from the dictionary\n",
        "del my_dict['b']\n",
        "print(\"Dictionary after removing key-value pair:\", my_dict)\n",
        "\n",
        "# Modifying a value in the dictionary\n",
        "my_dict['a'] = 10\n",
        "print(\"Dictionary after modifying value:\", my_dict)"
      ],
      "metadata": {
        "colab": {
          "base_uri": "https://localhost:8080/"
        },
        "id": "4BhUstMoTXzG",
        "outputId": "7f655f9b-e1a0-43f9-cd03-b19b0e756291"
      },
      "execution_count": null,
      "outputs": [
        {
          "output_type": "stream",
          "name": "stdout",
          "text": [
            "Dictionary: {'a': 1, 'b': 2, 'c': 3}\n",
            "Dictionary after adding key-value pair: {'a': 1, 'b': 2, 'c': 3, 'd': 4}\n",
            "Dictionary after removing key-value pair: {'a': 1, 'c': 3, 'd': 4}\n",
            "Dictionary after modifying value: {'a': 10, 'c': 3, 'd': 4}\n"
          ]
        }
      ]
    },
    {
      "cell_type": "markdown",
      "source": [
        "\n",
        "**Sets**\n",
        "\n",
        " Sets are unordered collections of unique elements. They are useful for tasks like removing duplicates from a list or performing set operations like union, intersection, and difference\n",
        "\n",
        "."
      ],
      "metadata": {
        "id": "ZIooVdyQUKEf"
      }
    },
    {
      "cell_type": "code",
      "source": [
        "\n",
        "# Creating a set\n",
        "my_set = {1, 2, 3, 4, 5}\n",
        "print(\"Set:\", my_set)\n",
        "\n",
        "# Adding an element to the set\n",
        "my_set.add(6)\n",
        "print(\"Set after adding element:\", my_set)\n",
        "\n",
        "# Removing an element from the set\n",
        "my_set.remove(3)\n",
        "print(\"Set after removing element:\", my_set)"
      ],
      "metadata": {
        "colab": {
          "base_uri": "https://localhost:8080/"
        },
        "id": "S7NzgdWZUg83",
        "outputId": "fe1d08b4-8022-4ad9-be67-942445184db4"
      },
      "execution_count": null,
      "outputs": [
        {
          "output_type": "stream",
          "name": "stdout",
          "text": [
            "Set: {1, 2, 3, 4, 5}\n",
            "Set after adding element: {1, 2, 3, 4, 5, 6}\n",
            "Set after removing element: {1, 2, 4, 5, 6}\n"
          ]
        }
      ]
    }
  ]
}